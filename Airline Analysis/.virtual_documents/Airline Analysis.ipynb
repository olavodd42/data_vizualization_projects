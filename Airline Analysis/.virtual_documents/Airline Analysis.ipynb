











import pandas as pd
import numpy as np
import seaborn as sns
import statsmodels
import matplotlib.pyplot as plt
import math
%matplotlib inline
## Read in Data
flight = pd.read_csv("flight.csv")
print(flight.head())

## Task 1




coach_price = flight.coach_price
coach_price.describe()


plt.figure(figsize=(8, 6))
sns.boxplot(y='coach_price', data=flight, width=.5)
plt.ylabel('Coach Price (R$)')
plt.title('Coach price distribution')
plt.show()
plt.close()


plt.hist('coach_price', data=flight)
plt.xlabel('Coach Price (R$)')
plt.ylabel('Frequency')
plt.title('Coach price distribution')
plt.axvline(x=500, color='red', label='Linha vertical', linewidth=.5)
plt.show()
plt.close()








## Task 2
coach_price_8_hours = flight[flight.hours == 8].coach_price
coach_price_8_hours.describe()



plt.hist(coach_price_8_hours)

plt.xlabel('Coach Price (R$)')
plt.ylabel('Frequency')
plt.title('Coach price distribution for 8 hours work')
plt.show()
plt.close()





## Task 3
# Remove outliers
scaled_time = flight.delay[(flight.delay < 30)]

plt.hist(scaled_time, range=(0,50))
plt.xlabel('Delay time for flight')
plt.ylabel('Frequency')
plt.title('Delay time distribution')
plt.axis([0, 30, 0, 60e3])
#plt.xscale('log')
plt.show()
plt.close()


plt.figure(figsize=(8, 6))
sns.boxplot(y=scaled_time, width=.5)

plt.ylabel('Delay time')
plt.title('Delay time')
plt.show()
plt.close()








## Task 4
plt.scatter(x='coach_price', y='firstclass_price', data=flight, alpha=.1, s=5)
plt.xlabel('Coach Price ($)')
plt.ylabel('First Class Price($)')
plt.title('First Class Price vs. Coach Price')
plt.show()
plt.close()


## Task 4
sns.lmplot(x='coach_price', y='firstclass_price', data=flight, line_kws={'color': 'red'}, lowess=False)
plt.xlabel('Coach Price ($)')
plt.ylabel('First Class Price($)')
plt.title('First Class Price vs. Coach Price')
plt.show()
plt.close()


import statsmodels.api as sm
model = sm.OLS.from_formula('firstclass_price ~ coach_price', data=flight).fit()
print(model.params)











## Task 5
fig = plt.figure(figsize=(12, 8))
gs = fig.add_gridspec(2, 2, height_ratios=[1.2, 1])

ax1 = fig.add_subplot(gs[0, :])
sns.boxplot(x='inflight_meal', y='coach_price', data=flight, hue='inflight_meal', legend=False, palette='Accent')
plt.xlabel('Meal')
plt.ylabel('Coach price')
plt.title('Relationship between meal and coach price')

ax2 = fig.add_subplot(gs[1, 0])
sns.boxplot(x='inflight_entertainment', y='coach_price', data=flight, hue='inflight_entertainment', legend=False, palette='Accent')
plt.xlabel('Entertainment')
plt.ylabel('Coach price')
plt.title('Relationship between entertainment and coach price')

ax2 = fig.add_subplot(gs[1, 1])
sns.boxplot(x='inflight_wifi', y='coach_price', data=flight, hue='inflight_wifi', legend=False, palette='Accent')
plt.xlabel('Wi-fi')
plt.ylabel('Coach price')
plt.title('Relationship between wi-fi access and coach price')
plt.tight_layout()
plt.show()
plt.close()


fig = plt.figure(figsize=(12, 8))
gs = fig.add_gridspec(2, 2, height_ratios=[1.2, 1])

ax1 = fig.add_subplot(gs[0, :])
plt.hist(flight.coach_price[flight.inflight_meal=='No'], label='No Meal', density=True, alpha=.5)
plt.hist(flight.coach_price[flight.inflight_meal=='Yes'], label='With Meal', density=True, alpha=.5)
plt.xlabel('Coach price')
plt.ylabel('Frequency')
plt.legend()

ax2 = fig.add_subplot(gs[1, 0])
plt.hist(flight.coach_price[flight.inflight_entertainment=='No'], label='No Entertainment', density=True, alpha=.5)
plt.hist(flight.coach_price[flight.inflight_entertainment=='Yes'], label='With Entertainment', density=True, alpha=.5)
plt.xlabel('Coach price')
plt.ylabel('Frequency')
plt.legend()

ax3 = fig.add_subplot(gs[1, 1])
plt.hist(flight.coach_price[flight.inflight_wifi=='No'], label='No Wi-fi', density=True, alpha=.5)
plt.hist(flight.coach_price[flight.inflight_wifi=='Yes'], label='With Wi-fi', density=True, alpha=.5)
plt.xlabel('Coach price')
plt.ylabel('Frequency')
plt.legend()
plt.show()
plt.close()








## Task 6
plt.scatter(x='miles', y='passengers', data=flight, alpha=.2, s=5)
plt.xlabel('Length of the flight (miles)')
plt.ylabel('Number of passengers')
plt.title('Number of passangers vs length of the flight')
plt.show()
plt.close()


## Task 4
sns.lmplot(x='miles', y='passengers', data=flight, line_kws={'color': 'red'}, lowess=False)
plt.xlabel('Length of the flight (miles)')
plt.ylabel('Number of passengers')
plt.title('Number of passangers vs length of the flight')
#plt.axis([100, 4000, 140, 240])
plt.show()
plt.close()











## Task 7
sns.scatterplot(x='coach_price', y='firstclass_price', hue = 'weekend', data=flight, palette='bright', alpha=.5)
plt.xlabel('Coach Price ($)')
plt.ylabel('First Class Price ($)')
plt.title('Relationship between Coach and First Class prices on flights on weekends vs on weekdays')
plt.show()
plt.close()









## Task 8
# side-by-side box plots grouped by gender
order = ['Sunday', 'Monday', 'Tuesday', 'Wednesday', 'Thursday', 'Friday', 'Saturday']
sns.boxplot(x = "day_of_week", y = "coach_price", hue = "redeye", palette = "pastel", data = flight, order=order)
plt.xlabel('Day of the week')
plt.ylabel('Coach Price')
plt.title('Difference of coach prices for redeyes and non-redeyes between days')
plt.show()
plt.close()






