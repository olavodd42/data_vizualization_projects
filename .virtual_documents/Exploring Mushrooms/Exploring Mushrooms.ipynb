











import matplotlib.pyplot as plt
import pandas as pd
import seaborn as sns
%matplotlib inline
# load in the data
df = pd.read_csv("mushroom_data.csv")
print(df.head())


print(len(df.columns))








df.Bruises = df.Bruises.astype(str)
print(df.dtypes)


























# list of all column headers
columns = df.columns.tolist()

for column in columns:
    #print(column)
    sns.countplot(x=column, data=df, order=df[column].value_counts().index)
    # rotates the value labels slightly so they don't overlap, also slightly increases font size
    plt.xticks(rotation=30, fontsize=10)
    # increases the variable label font size slightly to increase readability
    plt.xlabel(column, fontsize=12)
    plt.title(f'{column} Value Counts')
    plt.show()
    plt.clf()


















