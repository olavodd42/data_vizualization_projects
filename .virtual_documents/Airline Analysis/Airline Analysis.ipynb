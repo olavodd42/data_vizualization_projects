











import pandas as pd
import numpy as np
import seaborn as sns
import statsmodels as sm
import matplotlib.pyplot as plt
import math
%matplotlib inline
sns.set(style='whitegrid', palette='pastel', context='talk')

def load_data(filename):
    """Loads the dataset and handles common errors."""
    try:
        return pd.read_csv(filename)
    except FileNotFoundError:
        print(f"File '{filename}' not found.")
    except pd.errors.EmptyDataError:
        print(f"No data found in '{filename}'.")
    except Exception as e:
        print(f"An error occurred: {e}")
    return None

def show_and_clear():
    """Displays the current plot and clears the figure."""
    plt.show()
    plt.clf()
    plt.close()

# Load the dataset
flight = load_data("flight.csv")
print(flight.head())


# -----------------------------------------------------------------------------
# Task 1: Univariate Analysis - Coach Price
# -----------------------------------------------------------------------------
coach_price = flight["coach_price"]
print(coach_price.describe())


plt.figure(figsize=(8,6))
sns.boxplot(y='coach_price', data=flight, width=0.5)
plt.ylabel('Coach Price (R$)')
plt.title('Coach price distribution')
show_and_clear()


plt.figure(figsize=(8,6))
plt.hist(flight["coach_price"], bins=30, color='skyblue', edgecolor='black', alpha=0.7)
plt.xlabel('Coach Price (R$)')
plt.ylabel('Frequency')
plt.title('Coach price distribution')
plt.axvline(x=500, color='red', label='Price: $500', linewidth=1)
plt.legend()
show_and_clear()








# -----------------------------------------------------------------------------
# Task 2: Analysis for 8-Hour Flights
# -----------------------------------------------------------------------------
coach_price_8_hours = flight.loc[flight.hours == 8, "coach_price"]
print("8-hour Flight Coach Price Summary:")
print(coach_price_8_hours.describe())


plt.figure(figsize=(8, 6))
plt.hist(coach_price_8_hours, bins=30, color='lightgreen', edgecolor='black', alpha=0.7)
plt.xlabel('Coach Price (R$)')
plt.ylabel('Frequency')
plt.title('Coach Price Distribution for 8-Hour Flights')
show_and_clear()





# -----------------------------------------------------------------------------
# Task 3: Analysis of Flight Delay Times (0-30 minutes)
# -----------------------------------------------------------------------------
# Remove outliers (keep delays under 30 minutes)
scaled_time = flight.loc[flight.delay < 30, "delay"]

plt.figure(figsize=(8, 6))
plt.hist(scaled_time, bins=30, range=(0, 30), color='orchid', edgecolor='black', alpha=0.7)
plt.xlabel('Delay Time (minutes)')
plt.ylabel('Frequency')
plt.title('Distribution of Flight Delay Times (0-30 min)')
plt.axis([0, 30, 0, 60000])
show_and_clear()


plt.figure(figsize=(8, 6))
sns.boxplot(y=scaled_time, width=0.5, color='lightgray')
plt.ylabel('Delay Time (minutes)')
plt.title('Flight Delay Times - Boxplot')
show_and_clear()








# -----------------------------------------------------------------------------
# Task 4: Relationship between Coach and First-Class Prices
# -----------------------------------------------------------------------------
plt.figure(figsize=(8, 6))
plt.scatter(flight["coach_price"], flight["firstclass_price"], alpha=0.1, s=5, color='teal')
plt.xlabel('Coach Price (R$)')
plt.ylabel('First Class Price (R$)')
plt.title('First Class Price vs. Coach Price')
show_and_clear()


# Linear regression plot
sns.lmplot(x='coach_price', y='firstclass_price', data=flight,
           line_kws={'color': 'red'}, height=6, aspect=1.33)
plt.xlabel('Coach Price (R$)')
plt.ylabel('First Class Price (R$)')
plt.title('Regression: First Class Price vs. Coach Price')
show_and_clear()


# Fit a linear regression model and print parameters
model = sm.OLS.from_formula('firstclass_price ~ coach_price', data=flight).fit()
print("Regression Parameters:")
print(model.params)


## Task 4
plt.scatter(x='coach_price', y='firstclass_price', data=flight, alpha=.1, s=5)
plt.plot(flight.coach_price, model.predict(flight.coach_price), color='r', linewidth=.5)
plt.xlabel('Coach Price ($)')
plt.ylabel('First Class Price($)')
plt.title('First Class Price vs. Coach Price')
plt.show()
plt.close()








# -----------------------------------------------------------------------------
# Task 5: Impact of In-Flight Features on Coach Price
# -----------------------------------------------------------------------------
# Create side-by-side boxplots for meal, entertainment, and WiFi
fig, axs = plt.subplots(1, 3, figsize=(18, 6))
sns.boxplot(x="inflight_meal", y="coach_price", data=flight, palette="Accent", ax=axs[0])
axs[0].set_xlabel("In-Flight Meal")
axs[0].set_ylabel("Coach Price (R$)")
axs[0].set_title("Coach Price vs. Meal")

sns.boxplot(x="inflight_entertainment", y="coach_price", data=flight, palette="Accent", ax=axs[1])
axs[1].set_xlabel("In-Flight Entertainment")
axs[1].set_ylabel("Coach Price (R$)")
axs[1].set_title("Coach Price vs. Entertainment")

sns.boxplot(x="inflight_wifi", y="coach_price", data=flight, palette="Accent", ax=axs[2])
axs[2].set_xlabel("In-Flight WiFi")
axs[2].set_ylabel("Coach Price (R$)")
axs[2].set_title("Coach Price vs. WiFi")
plt.tight_layout()
show_and_clear()


# Compare distributions using histograms
fig, axs = plt.subplots(1, 3, figsize=(18, 6))
axs[0].hist(flight.loc[flight.inflight_meal=='No', "coach_price"], bins=30,
            density=True, alpha=0.5, label="No Meal", color='lightblue')
axs[0].hist(flight.loc[flight.inflight_meal=='Yes', "coach_price"], bins=30,
            density=True, alpha=0.5, label="With Meal", color='navy')
axs[0].set_xlabel("Coach Price (R$)")
axs[0].set_ylabel("Density")
axs[0].legend()

axs[1].hist(flight.loc[flight.inflight_entertainment=='No', "coach_price"], bins=30,
            density=True, alpha=0.5, label="No Entertainment", color='lightgreen')
axs[1].hist(flight.loc[flight.inflight_entertainment=='Yes', "coach_price"], bins=30,
            density=True, alpha=0.5, label="With Entertainment", color='darkgreen')
axs[1].set_xlabel("Coach Price (R$)")
axs[1].set_ylabel("Density")
axs[1].legend()

axs[2].hist(flight.loc[flight.inflight_wifi=='No', "coach_price"], bins=30,
            density=True, alpha=0.5, label="No WiFi", color='salmon')
axs[2].hist(flight.loc[flight.inflight_wifi=='Yes', "coach_price"], bins=30,
            density=True, alpha=0.5, label="With WiFi", color='crimson')
axs[2].set_xlabel("Coach Price (R$)")
axs[2].set_ylabel("Density")
axs[2].legend()
plt.tight_layout()
show_and_clear()








# -----------------------------------------------------------------------------
# Task 6: Relationship between Flight Distance and Number of Passengers
# -----------------------------------------------------------------------------
plt.figure(figsize=(8, 6))
plt.scatter(flight["miles"], flight["passengers"], alpha=0.2, s=5, color='coral')
plt.xlabel('Flight Distance (miles)')
plt.ylabel('Number of Passengers')
plt.title('Passengers vs. Flight Distance')
show_and_clear()


sns.lmplot(x="miles", y="passengers", data=flight,
           line_kws={'color':'red'}, height=6, aspect=1.33)
plt.xlabel('Flight Distance (miles)')
plt.ylabel('Number of Passengers')
plt.title('Regression: Passengers vs. Flight Distance')
show_and_clear()











# -----------------------------------------------------------------------------
# Task 7: Coach vs. First Class Prices on Weekends vs. Weekdays
# -----------------------------------------------------------------------------
plt.figure(figsize=(8, 6))
sns.scatterplot(x="coach_price", y="firstclass_price", hue="weekend",
                data=flight, palette="bright", alpha=0.5)
plt.xlabel("Coach Price (R$)")
plt.ylabel("First Class Price (R$)")
plt.title("Coach vs. First Class Prices: Weekend vs. Weekday")
show_and_clear()








# -----------------------------------------------------------------------------
# Task 8: Coach Price Differences for Redeye vs. Non-Redeye by Day of the Week
# -----------------------------------------------------------------------------
order_days = ['Sunday', 'Monday', 'Tuesday', 'Wednesday', 'Thursday', 'Friday', 'Saturday']
plt.figure(figsize=(10, 6))
sns.boxplot(x="day_of_week", y="coach_price", hue="redeye", data=flight,
            order=order_days, palette="pastel")
plt.xlabel("Day of the Week")
plt.ylabel("Coach Price (R$)")
plt.title("Coach Price: Redeye vs. Non-Redeye by Day")
plt.tight_layout()
show_and_clear()






